{
 "cells": [
  {
   "cell_type": "code",
   "execution_count": 1,
   "metadata": {},
   "outputs": [],
   "source": [
    "import requests"
   ]
  },
  {
   "cell_type": "code",
   "execution_count": 2,
   "metadata": {},
   "outputs": [],
   "source": [
    "url = 'http://localhost:5000'"
   ]
  },
  {
   "cell_type": "code",
   "execution_count": 3,
   "metadata": {},
   "outputs": [],
   "source": [
    "res = requests.get(url)"
   ]
  },
  {
   "cell_type": "code",
   "execution_count": 4,
   "metadata": {},
   "outputs": [
    {
     "data": {
      "text/plain": [
       "{'Hello': 'World!'}"
      ]
     },
     "execution_count": 4,
     "metadata": {},
     "output_type": "execute_result"
    }
   ],
   "source": [
    "res.json()"
   ]
  },
  {
   "cell_type": "markdown",
   "metadata": {},
   "source": [
    "Example:"
   ]
  },
  {
   "cell_type": "code",
   "execution_count": 5,
   "metadata": {},
   "outputs": [],
   "source": [
    "yes = requests.get(url + '/sql/solutions.authors' )"
   ]
  },
  {
   "cell_type": "code",
   "execution_count": 6,
   "metadata": {},
   "outputs": [],
   "source": [
    "#yes.json()"
   ]
  },
  {
   "cell_type": "markdown",
   "metadata": {},
   "source": [
    "## Insert a User"
   ]
  },
  {
   "cell_type": "code",
   "execution_count": 7,
   "metadata": {},
   "outputs": [],
   "source": [
    "u_alfon = requests.get(url + '/user/create/Alfonso')"
   ]
  },
  {
   "cell_type": "code",
   "execution_count": 8,
   "metadata": {},
   "outputs": [
    {
     "data": {
      "text/plain": [
       "<Response [200]>"
      ]
     },
     "execution_count": 8,
     "metadata": {},
     "output_type": "execute_result"
    }
   ],
   "source": [
    "u_alfon"
   ]
  },
  {
   "cell_type": "code",
   "execution_count": 9,
   "metadata": {},
   "outputs": [],
   "source": [
    "q1 = requests.get(url + '/sql/w6_chat.User' )"
   ]
  },
  {
   "cell_type": "code",
   "execution_count": 10,
   "metadata": {},
   "outputs": [
    {
     "data": {
      "text/plain": [
       "[{'idUser': 1, 'name': 'Blanca'},\n",
       " {'idUser': 2, 'name': 'Juan'},\n",
       " {'idUser': 3, 'name': 'Adri'},\n",
       " {'idUser': 4, 'name': 'Alfonso'},\n",
       " {'idUser': 5, 'name': 'lucia'}]"
      ]
     },
     "execution_count": 10,
     "metadata": {},
     "output_type": "execute_result"
    }
   ],
   "source": [
    "q1.json()"
   ]
  },
  {
   "cell_type": "markdown",
   "metadata": {},
   "source": [
    "## Create a chat"
   ]
  },
  {
   "cell_type": "code",
   "execution_count": 11,
   "metadata": {},
   "outputs": [],
   "source": [
    "c_ironhack = requests.get(url + '/chat/create/IronHack')"
   ]
  },
  {
   "cell_type": "code",
   "execution_count": 12,
   "metadata": {},
   "outputs": [
    {
     "data": {
      "text/plain": [
       "<Response [200]>"
      ]
     },
     "execution_count": 12,
     "metadata": {},
     "output_type": "execute_result"
    }
   ],
   "source": [
    "c_ironhack"
   ]
  },
  {
   "cell_type": "markdown",
   "metadata": {},
   "source": [
    "#### Create a groupchat for the Mammamia lyrics"
   ]
  },
  {
   "cell_type": "code",
   "execution_count": 13,
   "metadata": {},
   "outputs": [],
   "source": [
    "mammamia = requests.get(url + '/chat/create/Mammamia')"
   ]
  },
  {
   "cell_type": "markdown",
   "metadata": {},
   "source": [
    "#### Get the table to check if it has been donde corrcetly"
   ]
  },
  {
   "cell_type": "code",
   "execution_count": 14,
   "metadata": {},
   "outputs": [],
   "source": [
    "q2 = requests.get(url + '/sql/w6_chat.Chat' )"
   ]
  },
  {
   "cell_type": "code",
   "execution_count": 15,
   "metadata": {},
   "outputs": [
    {
     "data": {
      "text/plain": [
       "[{'idchat': 1, 'chat_name': 'Iron'},\n",
       " {'idchat': 2, 'chat_name': 'IronHack'},\n",
       " {'idchat': 3, 'chat_name': 'IrmonHack'},\n",
       " {'idchat': 4, 'chat_name': 'Mammamia'}]"
      ]
     },
     "execution_count": 15,
     "metadata": {},
     "output_type": "execute_result"
    }
   ],
   "source": [
    "q2.json()"
   ]
  },
  {
   "cell_type": "markdown",
   "metadata": {},
   "source": [
    "## Add user to a chat"
   ]
  },
  {
   "cell_type": "code",
   "execution_count": 16,
   "metadata": {},
   "outputs": [],
   "source": [
    "u_c_ = requests.get(url + '/chat/adduser/?user=2&chat=1')"
   ]
  },
  {
   "cell_type": "code",
   "execution_count": 17,
   "metadata": {},
   "outputs": [
    {
     "data": {
      "text/plain": [
       "<Response [200]>"
      ]
     },
     "execution_count": 17,
     "metadata": {},
     "output_type": "execute_result"
    }
   ],
   "source": [
    "u_c_ "
   ]
  },
  {
   "cell_type": "markdown",
   "metadata": {},
   "source": [
    "#### Add the users to the Mammamia groupchat"
   ]
  },
  {
   "cell_type": "code",
   "execution_count": 18,
   "metadata": {},
   "outputs": [],
   "source": [
    "mammamia_u1 = requests.get(url + '/chat/adduser/?user=1&chat=4')"
   ]
  },
  {
   "cell_type": "code",
   "execution_count": 19,
   "metadata": {},
   "outputs": [],
   "source": [
    "mammamia_u2 = requests.get(url + '/chat/adduser/?user=2&chat=4')"
   ]
  },
  {
   "cell_type": "code",
   "execution_count": 20,
   "metadata": {},
   "outputs": [],
   "source": [
    "mammamia_u3 = requests.get(url + '/chat/adduser/?user=3&chat=4')"
   ]
  },
  {
   "cell_type": "code",
   "execution_count": 21,
   "metadata": {},
   "outputs": [],
   "source": [
    "mammamia_u4 = requests.get(url + '/chat/adduser/?user=4&chat=4')"
   ]
  },
  {
   "cell_type": "code",
   "execution_count": 22,
   "metadata": {},
   "outputs": [],
   "source": [
    "mammamia_u5 = requests.get(url + '/chat/adduser/?user=5&chat=4')"
   ]
  },
  {
   "cell_type": "markdown",
   "metadata": {},
   "source": [
    "#### Get the table to check if it has been donde corrcetly"
   ]
  },
  {
   "cell_type": "code",
   "execution_count": 303,
   "metadata": {},
   "outputs": [],
   "source": [
    "q3 = requests.get(url + '/sql/w6_chat.Chat_has_User' )"
   ]
  },
  {
   "cell_type": "code",
   "execution_count": 304,
   "metadata": {},
   "outputs": [
    {
     "data": {
      "text/plain": [
       "[{'Chat_idchat': 1, 'User_idUser': 2},\n",
       " {'Chat_idchat': 1, 'User_idUser': 4},\n",
       " {'Chat_idchat': 2, 'User_idUser': 4},\n",
       " {'Chat_idchat': 3, 'User_idUser': 4},\n",
       " {'Chat_idchat': 4, 'User_idUser': 4}]"
      ]
     },
     "execution_count": 304,
     "metadata": {},
     "output_type": "execute_result"
    }
   ],
   "source": [
    "q3.json()"
   ]
  },
  {
   "cell_type": "markdown",
   "metadata": {},
   "source": [
    "## Add a message to a chat"
   ]
  },
  {
   "cell_type": "code",
   "execution_count": 305,
   "metadata": {},
   "outputs": [],
   "source": [
    "mm1 = requests.get(url + \"/chat/addmessage/?message=I've been cheated by you since I don't know when&user=3&chat=4\")"
   ]
  },
  {
   "cell_type": "code",
   "execution_count": 306,
   "metadata": {},
   "outputs": [
    {
     "data": {
      "text/plain": [
       "<Response [200]>"
      ]
     },
     "execution_count": 306,
     "metadata": {},
     "output_type": "execute_result"
    }
   ],
   "source": [
    "mm1"
   ]
  },
  {
   "cell_type": "code",
   "execution_count": 307,
   "metadata": {},
   "outputs": [],
   "source": [
    "mm2 = requests.get(url + \"/chat/addmessage/?message=So I made up my mind: it must come to an end&user=2&chat=4\")"
   ]
  },
  {
   "cell_type": "code",
   "execution_count": 308,
   "metadata": {},
   "outputs": [],
   "source": [
    "mm3 = requests.get(url + \"/chat/addmessage/?message=Look at me now, will I ever learn?&user=1&chat=4\")"
   ]
  },
  {
   "cell_type": "code",
   "execution_count": 309,
   "metadata": {},
   "outputs": [],
   "source": [
    "mm4 = requests.get(url + \"/chat/addmessage/?message=I don't know how, but I suddenly lose control?&user=4&chat=4\")"
   ]
  },
  {
   "cell_type": "code",
   "execution_count": 310,
   "metadata": {},
   "outputs": [],
   "source": [
    "mm5 = requests.get(url + \"/chat/addmessage/?message=There's a fire within my soul?&user=5&chat=4\")"
   ]
  },
  {
   "cell_type": "code",
   "execution_count": 317,
   "metadata": {},
   "outputs": [],
   "source": [
    "q4 = requests.get(url + '/sql/w6_chat.Messages' )"
   ]
  },
  {
   "cell_type": "code",
   "execution_count": 318,
   "metadata": {},
   "outputs": [
    {
     "data": {
      "text/plain": [
       "[{'idMessages': 23,\n",
       "  'messages_content': \"I've been cheated by you since I don't know when\",\n",
       "  'User_idUser': 3,\n",
       "  'Chat_idchat': 4},\n",
       " {'idMessages': 24,\n",
       "  'messages_content': 'So I made up my mind: it must come to an end',\n",
       "  'User_idUser': 2,\n",
       "  'Chat_idchat': 4},\n",
       " {'idMessages': 25,\n",
       "  'messages_content': 'Look at me now, will I ever learn?',\n",
       "  'User_idUser': 1,\n",
       "  'Chat_idchat': 4},\n",
       " {'idMessages': 26,\n",
       "  'messages_content': \"I don't know how, but I suddenly lose control?\",\n",
       "  'User_idUser': 4,\n",
       "  'Chat_idchat': 4},\n",
       " {'idMessages': 27,\n",
       "  'messages_content': \"There's a fire within my soul?\",\n",
       "  'User_idUser': 5,\n",
       "  'Chat_idchat': 4}]"
      ]
     },
     "execution_count": 318,
     "metadata": {},
     "output_type": "execute_result"
    }
   ],
   "source": [
    "q4.json()"
   ]
  },
  {
   "cell_type": "markdown",
   "metadata": {},
   "source": [
    "## Get all the messages from a chat"
   ]
  },
  {
   "cell_type": "markdown",
   "metadata": {},
   "source": [
    "#### Extract ONLY the messages of the chat"
   ]
  },
  {
   "cell_type": "code",
   "execution_count": 382,
   "metadata": {},
   "outputs": [],
   "source": [
    "mm_ONLYmssg = requests.get(url + \"/chat/listONLY/?chat=4\")"
   ]
  },
  {
   "cell_type": "code",
   "execution_count": 383,
   "metadata": {},
   "outputs": [
    {
     "data": {
      "text/plain": [
       "[{'messages_content': \"I've been cheated by you since I don't know when\"},\n",
       " {'messages_content': 'So I made up my mind: it must come to an end'},\n",
       " {'messages_content': 'Look at me now, will I ever learn?'},\n",
       " {'messages_content': \"I don't know how, but I suddenly lose control?\"},\n",
       " {'messages_content': \"There's a fire within my soul?\"}]"
      ]
     },
     "execution_count": 383,
     "metadata": {},
     "output_type": "execute_result"
    }
   ],
   "source": [
    "mm_ONLYmssg.json()"
   ]
  },
  {
   "cell_type": "markdown",
   "metadata": {},
   "source": [
    "#### Extract the messages and extra info (messages table)"
   ]
  },
  {
   "cell_type": "code",
   "execution_count": 376,
   "metadata": {},
   "outputs": [],
   "source": [
    "mm_mssg = requests.get(url + \"/chat/list/?chat=4\")"
   ]
  },
  {
   "cell_type": "code",
   "execution_count": 377,
   "metadata": {},
   "outputs": [
    {
     "data": {
      "text/plain": [
       "<Response [200]>"
      ]
     },
     "execution_count": 377,
     "metadata": {},
     "output_type": "execute_result"
    }
   ],
   "source": [
    "mm_mssg"
   ]
  },
  {
   "cell_type": "code",
   "execution_count": 378,
   "metadata": {},
   "outputs": [],
   "source": [
    "q5 = requests.get(url + '/sql/w6_chat.Messages' )"
   ]
  },
  {
   "cell_type": "code",
   "execution_count": 379,
   "metadata": {},
   "outputs": [
    {
     "data": {
      "text/plain": [
       "[{'idMessages': 23,\n",
       "  'messages_content': \"I've been cheated by you since I don't know when\",\n",
       "  'User_idUser': 3,\n",
       "  'Chat_idchat': 4},\n",
       " {'idMessages': 24,\n",
       "  'messages_content': 'So I made up my mind: it must come to an end',\n",
       "  'User_idUser': 2,\n",
       "  'Chat_idchat': 4},\n",
       " {'idMessages': 25,\n",
       "  'messages_content': 'Look at me now, will I ever learn?',\n",
       "  'User_idUser': 1,\n",
       "  'Chat_idchat': 4},\n",
       " {'idMessages': 26,\n",
       "  'messages_content': \"I don't know how, but I suddenly lose control?\",\n",
       "  'User_idUser': 4,\n",
       "  'Chat_idchat': 4},\n",
       " {'idMessages': 27,\n",
       "  'messages_content': \"There's a fire within my soul?\",\n",
       "  'User_idUser': 5,\n",
       "  'Chat_idchat': 4}]"
      ]
     },
     "execution_count": 379,
     "metadata": {},
     "output_type": "execute_result"
    }
   ],
   "source": [
    "q5.json()"
   ]
  },
  {
   "cell_type": "code",
   "execution_count": null,
   "metadata": {},
   "outputs": [],
   "source": []
  }
 ],
 "metadata": {
  "kernelspec": {
   "display_name": "Python 3",
   "language": "python",
   "name": "python3"
  },
  "language_info": {
   "codemirror_mode": {
    "name": "ipython",
    "version": 3
   },
   "file_extension": ".py",
   "mimetype": "text/x-python",
   "name": "python",
   "nbconvert_exporter": "python",
   "pygments_lexer": "ipython3",
   "version": "3.8.5"
  }
 },
 "nbformat": 4,
 "nbformat_minor": 4
}
